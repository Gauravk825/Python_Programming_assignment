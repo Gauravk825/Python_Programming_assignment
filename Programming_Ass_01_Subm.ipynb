{
 "cells": [
  {
   "cell_type": "markdown",
   "id": "bcaaa4c8-41b2-42e2-8139-5e9779e6bc6b",
   "metadata": {},
   "source": [
    "1.\tWrite a Python program to print \"Hello Python\"?"
   ]
  },
  {
   "cell_type": "code",
   "execution_count": 2,
   "id": "904251b0-473d-4657-9cad-12bb8b98e945",
   "metadata": {},
   "outputs": [
    {
     "name": "stdout",
     "output_type": "stream",
     "text": [
      "Hello Python\n"
     ]
    }
   ],
   "source": [
    "print('Hello Python')"
   ]
  },
  {
   "cell_type": "markdown",
   "id": "6d4a268d-f637-4018-9dd3-8f2c12aa3a13",
   "metadata": {},
   "source": [
    "2.\tWrite a Python program to do arithmetical operations addition and division.?"
   ]
  },
  {
   "cell_type": "code",
   "execution_count": 5,
   "id": "a923f6d4-a1c3-4cc1-9473-e9eb7f843c4b",
   "metadata": {},
   "outputs": [
    {
     "name": "stdin",
     "output_type": "stream",
     "text": [
      "Enter First Valure 4\n",
      "Enter Second Value 5\n"
     ]
    },
    {
     "name": "stdout",
     "output_type": "stream",
     "text": [
      "Addition of number :  9\n",
      "Division of numbre :  0.8\n"
     ]
    }
   ],
   "source": [
    "a = int(input(\"Enter First Valure\"))\n",
    "b = int(input(\"Enter Second Value\"))\n",
    "\n",
    "c = a + b\n",
    "d = a / b\n",
    "\n",
    "print(\"Addition of number : \", c)\n",
    "print(\"Division of numbre : \", d)"
   ]
  },
  {
   "cell_type": "markdown",
   "id": "1a05d301-5047-47bc-9a80-aefe9bac0f29",
   "metadata": {},
   "source": [
    "3.\tWrite a Python program to find the area of a triangle?"
   ]
  },
  {
   "cell_type": "code",
   "execution_count": 10,
   "id": "524c2448-a288-43ea-90e8-944b76d67183",
   "metadata": {},
   "outputs": [
    {
     "name": "stdin",
     "output_type": "stream",
     "text": [
      "Enter first side of triangle 45\n",
      "Enter second side of triangle 32\n",
      "Enter third side of triangle 2\n"
     ]
    },
    {
     "name": "stdout",
     "output_type": "stream",
     "text": [
      "Area of triangle :  (1.5135856937691033e-14+247.18730246515494j)\n"
     ]
    }
   ],
   "source": [
    "a = float(input(\"Enter first side of triangle\"))\n",
    "b = float(input(\"Enter second side of triangle\"))\n",
    "c = float(input(\"Enter third side of triangle\"))\n",
    "\n",
    "s = (a + b + c )/2\n",
    "\n",
    "area = (s*(s-a)*(s-b)*(s-c)) ** 0.5\n",
    "\n",
    "print(\"Area of triangle : \" , area)"
   ]
  },
  {
   "cell_type": "code",
   "execution_count": 9,
   "id": "bdba02b5-b703-4b77-ada0-16f186532ab3",
   "metadata": {},
   "outputs": [
    {
     "data": {
      "text/plain": [
       "469.05110329259435"
      ]
     },
     "execution_count": 9,
     "metadata": {},
     "output_type": "execute_result"
    }
   ],
   "source": [
    "area"
   ]
  },
  {
   "cell_type": "markdown",
   "id": "b189bf6b-8e81-4b31-bae2-da4652b171e7",
   "metadata": {},
   "source": [
    "4.\tWrite a Python program to swap two variables?"
   ]
  },
  {
   "cell_type": "code",
   "execution_count": 2,
   "id": "435b55cc-8a52-47d9-98ef-d5013e8042db",
   "metadata": {},
   "outputs": [
    {
     "name": "stdin",
     "output_type": "stream",
     "text": [
      "Enter value of x:  45\n",
      "Enter value of y:  34\n"
     ]
    },
    {
     "name": "stdout",
     "output_type": "stream",
     "text": [
      "The value of x after swapping: 34\n",
      "The value of y after swapping: 45\n"
     ]
    }
   ],
   "source": [
    "x = input('Enter value of x: ')\n",
    "y = input('Enter value of y: ')\n",
    "\n",
    "# create a temporary variable and swap the values\n",
    "temp = x\n",
    "x = y\n",
    "y = temp\n",
    "\n",
    "print('The value of x after swapping: {}'.format(x))\n",
    "print('The value of y after swapping: {}'.format(y))"
   ]
  },
  {
   "cell_type": "markdown",
   "id": "4f181113-5525-4367-bb56-dcc7049b9d71",
   "metadata": {},
   "source": [
    "5.\tWrite a Python program to generate a random number?"
   ]
  },
  {
   "cell_type": "code",
   "execution_count": 5,
   "id": "c3870a22-521e-42cd-8a6f-86780e164c9f",
   "metadata": {},
   "outputs": [
    {
     "name": "stdout",
     "output_type": "stream",
     "text": [
      "45\n"
     ]
    }
   ],
   "source": [
    "import random\n",
    "n = random.randint(0,50)\n",
    "print(n)"
   ]
  },
  {
   "cell_type": "code",
   "execution_count": null,
   "id": "da78d5ca-5c1f-47ca-b8d3-0cf1a359e22d",
   "metadata": {},
   "outputs": [],
   "source": []
  }
 ],
 "metadata": {
  "kernelspec": {
   "display_name": "Python 3 (ipykernel)",
   "language": "python",
   "name": "python3"
  },
  "language_info": {
   "codemirror_mode": {
    "name": "ipython",
    "version": 3
   },
   "file_extension": ".py",
   "mimetype": "text/x-python",
   "name": "python",
   "nbconvert_exporter": "python",
   "pygments_lexer": "ipython3",
   "version": "3.10.6"
  }
 },
 "nbformat": 4,
 "nbformat_minor": 5
}
