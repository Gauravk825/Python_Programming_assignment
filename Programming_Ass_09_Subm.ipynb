{
 "cells": [
  {
   "cell_type": "markdown",
   "id": "0edbbcf1-3aff-4a94-972d-7a33f935f1ee",
   "metadata": {},
   "source": [
    "1.\tWrite a Python program to check if the given number is a Disarium Number?"
   ]
  },
  {
   "cell_type": "code",
   "execution_count": 23,
   "id": "5d04c88a-f77f-4d96-9d82-b8b0aa77da40",
   "metadata": {},
   "outputs": [
    {
     "name": "stdin",
     "output_type": "stream",
     "text": [
      "Enter a number:  175\n"
     ]
    },
    {
     "name": "stdout",
     "output_type": "stream",
     "text": [
      "175 is a disarium number\n"
     ]
    }
   ],
   "source": [
    "def calculateLength(n):    \n",
    "    length = 0\n",
    "    while(n != 0):    \n",
    "        length = length + 1  \n",
    "        n = n//10    \n",
    "    return length    \n",
    "     \n",
    "num =  int(input(\"Enter a number: \"))  \n",
    "rem = sum = 0\n",
    "len = calculateLength(num)    \n",
    "n = num    \n",
    "     \n",
    "while(num > 0):    \n",
    "    rem = num%10    \n",
    "    sum = sum + int(rem**len)    \n",
    "    num = num//10    \n",
    "    len = len - 1    \n",
    "     \n",
    "\n",
    "if(sum == n):    \n",
    "    print(str(n) + \" is a disarium number\")    \n",
    "else:    \n",
    "    print(str(n) + \" is not a disarium number\")   \n"
   ]
  },
  {
   "cell_type": "markdown",
   "id": "1b614fc6-e244-481f-b34a-e204568c944e",
   "metadata": {},
   "source": [
    "2.\tWrite a Python program to print all disarium numbers between 1 to 100?"
   ]
  },
  {
   "cell_type": "code",
   "execution_count": 8,
   "id": "d578bcef-636f-4291-ba15-6ed6385a09a4",
   "metadata": {},
   "outputs": [
    {
     "name": "stdin",
     "output_type": "stream",
     "text": [
      "Enter Lower limit 1\n",
      "Enter upper limit 100\n"
     ]
    },
    {
     "name": "stdout",
     "output_type": "stream",
     "text": [
      "1\n",
      "2\n",
      "3\n",
      "4\n",
      "5\n",
      "6\n",
      "7\n",
      "8\n",
      "9\n",
      "89\n"
     ]
    }
   ],
   "source": [
    "def calculateLength(n):    \n",
    "    length = 0\n",
    "    while(n != 0):    \n",
    "        length = length + 1  \n",
    "        n = n//10    \n",
    "    return length\n",
    "\n",
    "\n",
    "def sumofdigit(num):\n",
    "    rem = sum = 0\n",
    "    lent = calculateLength(num)    \n",
    "    n = num  \n",
    "    while(num > 0):    \n",
    "        rem = num%10    \n",
    "        sum = sum + int(rem**lent)    \n",
    "        num = num//10    \n",
    "        lent = lent - 1\n",
    "\n",
    "    return sum\n",
    "\n",
    "lowerlimit = int(input(\"Enter Lower limit\"))\n",
    "upperlimit = int(input(\"Enter upper limit\"))\n",
    "result = 0\n",
    "\n",
    "for i in range(lowerlimit,upperlimit):\n",
    "    result = sumofdigit(i)\n",
    "    if(result == i):\n",
    "        \n",
    "        print(i)"
   ]
  },
  {
   "cell_type": "markdown",
   "id": "f0c00106-e158-417c-aab2-b75aaaaed4de",
   "metadata": {},
   "source": [
    "3.\tWrite a Python program to check if the given number is Happy Number?"
   ]
  },
  {
   "cell_type": "code",
   "execution_count": 10,
   "id": "1d45bed1-14cf-4b22-84da-a6009d45d273",
   "metadata": {},
   "outputs": [
    {
     "name": "stdout",
     "output_type": "stream",
     "text": [
      "82 is ahppy number\n"
     ]
    }
   ],
   "source": [
    "def isHappyNumber(num):\n",
    "    rem = 0\n",
    "    sum = 0\n",
    "    \n",
    "    while(num > 0):\n",
    "        rem = num%10\n",
    "        sum = sum + (rem * rem)\n",
    "        num = num//10\n",
    "    return sum\n",
    "\n",
    "num = 82\n",
    "result = num\n",
    "\n",
    "while(result != 1 and result != 4):\n",
    "    result = isHappyNumber(result)\n",
    "    \n",
    "    \n",
    "if(result == 1):\n",
    "    print(str(num) + \" is ahppy number\")\n",
    "elif(result == 4):\n",
    "    print(str(num) + \" is not a hppy number\")"
   ]
  },
  {
   "cell_type": "markdown",
   "id": "9d5bf2f8-5773-4bfa-a968-029db9006705",
   "metadata": {},
   "source": [
    "4.\tWrite a Python program to print all happy numbers between 1 and 100?"
   ]
  },
  {
   "cell_type": "code",
   "execution_count": 19,
   "id": "e1d87487-c7ce-40b5-9f8a-a362dede0bc7",
   "metadata": {},
   "outputs": [
    {
     "name": "stdout",
     "output_type": "stream",
     "text": [
      "1 7 10 13 19 23 28 31 32 44 49 68 70 79 82 86 91 94 97 100 "
     ]
    }
   ],
   "source": [
    "def isHappyNumber(num):\n",
    "    rem = 0\n",
    "    sum = 0\n",
    "    \n",
    "    while(num > 0):\n",
    "        rem = num%10\n",
    "        sum = sum + (rem * rem)\n",
    "        num = num//10\n",
    "    return sum\n",
    "\n",
    "\n",
    "for i in range(1,101):\n",
    "    result = i\n",
    "    \n",
    "    while(result != 1 and result != 4):\n",
    "        result = isHappyNumber(result)\n",
    "        \n",
    "        \n",
    "    if(result == 1):    \n",
    "        print(i , end = \" \")   "
   ]
  },
  {
   "cell_type": "markdown",
   "id": "9a7ac61c-f709-4f4d-a8e0-ea959538a785",
   "metadata": {},
   "source": [
    "5.\tWrite a Python program to determine whether the given number is a Harshad Number?"
   ]
  },
  {
   "cell_type": "code",
   "execution_count": 1,
   "id": "f24ed0d4-0afe-4025-9e2d-c13dcdd1f8f1",
   "metadata": {},
   "outputs": [
    {
     "name": "stdin",
     "output_type": "stream",
     "text": [
      "Enter a number 156\n"
     ]
    },
    {
     "name": "stdout",
     "output_type": "stream",
     "text": [
      " 156 is harshad number\n"
     ]
    }
   ],
   "source": [
    "num = int(input(\"Enter a number\"))\n",
    "\n",
    "rem = 0\n",
    "sum = 0\n",
    "n = num\n",
    "\n",
    "while( num > 0):\n",
    "    rem = num%10\n",
    "    sum = sum + rem\n",
    "    num = num//10\n",
    "    \n",
    "if(n%sum == 0):\n",
    "    print(\" {0} is harshad number\".format(n))\n",
    "else:\n",
    "    print(\" {0} is not harshad number\".format(n))"
   ]
  },
  {
   "cell_type": "markdown",
   "id": "c104cd25-76f5-4fcf-9ea0-6949433a1080",
   "metadata": {},
   "source": [
    "6.\tWrite a Python program to print all pronic numbers between 1 and 100?"
   ]
  },
  {
   "cell_type": "code",
   "execution_count": 4,
   "id": "4af978df-e272-47cc-941f-35359dd1873a",
   "metadata": {},
   "outputs": [
    {
     "name": "stdout",
     "output_type": "stream",
     "text": [
      "Pronic numbers between 1 and 100: \n",
      "2\n",
      " \n",
      "6\n",
      " \n",
      "12\n",
      " \n",
      "20\n",
      " \n",
      "30\n",
      " \n",
      "42\n",
      " \n",
      "56\n",
      " \n",
      "72\n",
      " \n",
      "90\n",
      " \n"
     ]
    }
   ],
   "source": [
    "def isPronicNumber(num):\n",
    "    flag = False\n",
    "    for j in range(1, num+1):\n",
    "        if((j*(j+1)) == num):\n",
    "            flag = True   \n",
    "            break   \n",
    "    return flag   \n",
    "      \n",
    "print(\"Pronic numbers between 1 and 100: \");    \n",
    "for i in range(1, 101):    \n",
    "    if(isPronicNumber(i)):    \n",
    "        print(i),    \n",
    "        print(\" \"),  "
   ]
  },
  {
   "cell_type": "code",
   "execution_count": null,
   "id": "f1254883-f708-4243-8e12-5409dec90f7f",
   "metadata": {},
   "outputs": [],
   "source": []
  }
 ],
 "metadata": {
  "kernelspec": {
   "display_name": "Python 3 (ipykernel)",
   "language": "python",
   "name": "python3"
  },
  "language_info": {
   "codemirror_mode": {
    "name": "ipython",
    "version": 3
   },
   "file_extension": ".py",
   "mimetype": "text/x-python",
   "name": "python",
   "nbconvert_exporter": "python",
   "pygments_lexer": "ipython3",
   "version": "3.10.6"
  }
 },
 "nbformat": 4,
 "nbformat_minor": 5
}
