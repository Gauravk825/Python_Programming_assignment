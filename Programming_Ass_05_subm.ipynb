{
 "cells": [
  {
   "cell_type": "markdown",
   "id": "ac842de4-2334-473a-948c-f77120a25efc",
   "metadata": {},
   "source": [
    "1.\tWrite a Python Program to Find LCM?"
   ]
  },
  {
   "cell_type": "code",
   "execution_count": 3,
   "id": "afc604ab-07aa-46e6-9e67-e854344989ac",
   "metadata": {},
   "outputs": [
    {
     "name": "stdin",
     "output_type": "stream",
     "text": [
      "Enter first number 3\n",
      "Enter second Number 4\n"
     ]
    },
    {
     "name": "stdout",
     "output_type": "stream",
     "text": [
      "LCM of 3 and 4 is 12\n"
     ]
    }
   ],
   "source": [
    "x = int(input(\"Enter first number\"))\n",
    "y = int(input(\"Enter second Number\"))\n",
    "\n",
    "if x > y:  \n",
    "    greater = x  \n",
    "else:\n",
    "    greater = y  \n",
    "while(True):\n",
    "    if((greater % x == 0) and (greater % y == 0)):\n",
    "        lcm = greater\n",
    "        break  \n",
    "    greater += 1 \n",
    "    \n",
    "    \n",
    "print(\"LCM of {0} and {1} is {2}\".format(x,y,lcm))"
   ]
  },
  {
   "cell_type": "markdown",
   "id": "1f89dbbf-9cb7-4c87-9701-5ba85a56f925",
   "metadata": {},
   "source": [
    "2.\tWrite a Python Program to Find HCF?"
   ]
  },
  {
   "cell_type": "code",
   "execution_count": 6,
   "id": "20caa704-9c73-48e1-8cdd-7af82022adad",
   "metadata": {},
   "outputs": [
    {
     "name": "stdin",
     "output_type": "stream",
     "text": [
      "Enter first number 3\n",
      "Enter second Number 4\n"
     ]
    },
    {
     "name": "stdout",
     "output_type": "stream",
     "text": [
      "HCF of 3 and 4 is 1\n"
     ]
    }
   ],
   "source": [
    "x = int(input(\"Enter first number\"))\n",
    "y = int(input(\"Enter second Number\"))\n",
    "\n",
    "if x > y:\n",
    "    smaller = y\n",
    "else:\n",
    "    smaller = x\n",
    "    for i in range(1, smaller+1):\n",
    "        if((x % i == 0) and (y % i == 0)):\n",
    "            hcf = i \n",
    "\n",
    "print(\"HCF of {0} and {1} is {2}\".format(x,y,hcf))"
   ]
  },
  {
   "cell_type": "markdown",
   "id": "82d0fe61-5737-4ac8-a7fc-1f216425924f",
   "metadata": {},
   "source": [
    "3.\tWrite a Python Program to Convert Decimal to Binary, Octal and Hexadecimal?"
   ]
  },
  {
   "cell_type": "code",
   "execution_count": 7,
   "id": "dd610209-dd8a-47f9-9f04-5f1125d916ac",
   "metadata": {},
   "outputs": [
    {
     "name": "stdout",
     "output_type": "stream",
     "text": [
      "The decimal value of 344 is:\n",
      "0b101011000 in binary.\n",
      "0o530 in octal.\n",
      "0x158 in hexadecimal.\n"
     ]
    }
   ],
   "source": [
    "dec = 344\n",
    "\n",
    "print(\"The decimal value of\", dec, \"is:\")\n",
    "print(bin(dec), \"in binary.\")\n",
    "print(oct(dec), \"in octal.\")\n",
    "print(hex(dec), \"in hexadecimal.\")"
   ]
  },
  {
   "cell_type": "markdown",
   "id": "66feeb4b-b0e7-4b4b-9cc3-d775a8a5a1ab",
   "metadata": {},
   "source": [
    "4.\tWrite a Python Program To Find ASCII value of a character?"
   ]
  },
  {
   "cell_type": "code",
   "execution_count": 11,
   "id": "95dd53f8-e42c-41ab-8734-c8fe4fc906b3",
   "metadata": {},
   "outputs": [
    {
     "name": "stdin",
     "output_type": "stream",
     "text": [
      "Enter Any aplhabet A\n"
     ]
    },
    {
     "name": "stdout",
     "output_type": "stream",
     "text": [
      "The ASCII value of 'A' is 65\n"
     ]
    }
   ],
   "source": [
    "c = input(\"Enter Any aplhabet\")\n",
    "print(\"The ASCII value of '\" + c + \"' is\", ord(c))"
   ]
  },
  {
   "cell_type": "markdown",
   "id": "c44e98a3-3774-4632-ae01-3e616129486e",
   "metadata": {},
   "source": [
    "5.\tWrite a Python Program to Make a Simple Calculator with 4 basic mathematical operations?"
   ]
  },
  {
   "cell_type": "code",
   "execution_count": 1,
   "id": "0777413d-7305-4837-b7fd-ebf551649637",
   "metadata": {},
   "outputs": [
    {
     "name": "stdout",
     "output_type": "stream",
     "text": [
      "1. Add\n",
      "1. Substraction\n",
      "1. Multipication\n",
      "1. Division\n"
     ]
    },
    {
     "name": "stdin",
     "output_type": "stream",
     "text": [
      "Enter your choice 1\u0002\u0003\u0004 1\n",
      "Enter firsr number 3\n",
      "Enter second number 4\n"
     ]
    },
    {
     "name": "stdout",
     "output_type": "stream",
     "text": [
      "3 + 4 = 7\n"
     ]
    },
    {
     "name": "stdin",
     "output_type": "stream",
     "text": [
      "Do you want nexr calculation(yes/no) :  no\n"
     ]
    }
   ],
   "source": [
    "def add(x,y):\n",
    "    return x + y\n",
    "\n",
    "def sub(x,y):\n",
    "    return x - y\n",
    "\n",
    "def mul(x,y):\n",
    "    return x * y\n",
    "\n",
    "def div(x,y):\n",
    "    return x / y\n",
    "\n",
    "print(\"1. Add\")\n",
    "print(\"1. Substraction\")\n",
    "print(\"1. Multipication\")\n",
    "print(\"1. Division\")\n",
    "\n",
    "while True:\n",
    "    choice = input(\"Enter your choice 1\\2\\3\\4\")\n",
    "    \n",
    "    if choice in ('1', '2', '3', '4') :\n",
    "        num1 = int(input(\"Enter firsr number\"))\n",
    "        num2 = int(input(\"Enter second number\"))\n",
    "        \n",
    "        if choice == '1':\n",
    "            print(num1, \"+\" , num2 , \"=\", add(num1, num2))\n",
    "            \n",
    "        elif choice == '2':\n",
    "            print(num1, \"-\" , num2 , \"=\", sub(num1, num2))\n",
    "            \n",
    "        elif choice == '3':\n",
    "            print(num1, \" X \" , num2 , \"=\", mul(num1, num2))\n",
    "            \n",
    "            \n",
    "        if choice == '4':\n",
    "            print(num1, \" / \" , num2 , \"=\", div(num1, num2))\n",
    "            \n",
    "            \n",
    "        next_cal = input(\"Do you want nexr calculation(yes/no) : \")\n",
    "        if next_cal == \"no\":\n",
    "            break\n",
    "    else:\n",
    "        print(\"Invalid Input\")"
   ]
  },
  {
   "cell_type": "code",
   "execution_count": null,
   "id": "d690a1ed-9d0f-4ad5-96dd-c22ab323b774",
   "metadata": {},
   "outputs": [],
   "source": []
  }
 ],
 "metadata": {
  "kernelspec": {
   "display_name": "Python 3 (ipykernel)",
   "language": "python",
   "name": "python3"
  },
  "language_info": {
   "codemirror_mode": {
    "name": "ipython",
    "version": 3
   },
   "file_extension": ".py",
   "mimetype": "text/x-python",
   "name": "python",
   "nbconvert_exporter": "python",
   "pygments_lexer": "ipython3",
   "version": "3.10.6"
  }
 },
 "nbformat": 4,
 "nbformat_minor": 5
}
